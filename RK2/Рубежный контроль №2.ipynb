{
 "cells": [
  {
   "cell_type": "markdown",
   "id": "frank-russian",
   "metadata": {},
   "source": [
    "# Рубежный контроль №2\n",
    "# по теме: \"Методы построения моделей машинного обучения.\"\n",
    "### Студент:\n",
    "Алпеев Владислав\n",
    "### Группа:\n",
    "ИУ5-64Б\n",
    "### Вариант:\n",
    "1\n",
    "\n",
    "## Выполенние:"
   ]
  },
  {
   "cell_type": "markdown",
   "id": "certain-recovery",
   "metadata": {},
   "source": [
    "Загрузим указанный в задании датасет."
   ]
  },
  {
   "cell_type": "code",
   "execution_count": 8,
   "id": "exclusive-stable",
   "metadata": {},
   "outputs": [
    {
     "data": {
      "text/html": [
       "<div>\n",
       "<style scoped>\n",
       "    .dataframe tbody tr th:only-of-type {\n",
       "        vertical-align: middle;\n",
       "    }\n",
       "\n",
       "    .dataframe tbody tr th {\n",
       "        vertical-align: top;\n",
       "    }\n",
       "\n",
       "    .dataframe thead th {\n",
       "        text-align: right;\n",
       "    }\n",
       "</style>\n",
       "<table border=\"1\" class=\"dataframe\">\n",
       "  <thead>\n",
       "    <tr style=\"text-align: right;\">\n",
       "      <th></th>\n",
       "      <th>CRIM</th>\n",
       "      <th>ZN</th>\n",
       "      <th>INDUS</th>\n",
       "      <th>CHAS</th>\n",
       "      <th>NOX</th>\n",
       "      <th>RM</th>\n",
       "      <th>AGE</th>\n",
       "      <th>DIS</th>\n",
       "      <th>RAD</th>\n",
       "      <th>TAX</th>\n",
       "      <th>PTRATIO</th>\n",
       "      <th>B</th>\n",
       "      <th>LSTAT</th>\n",
       "      <th>target</th>\n",
       "    </tr>\n",
       "  </thead>\n",
       "  <tbody>\n",
       "    <tr>\n",
       "      <th>0</th>\n",
       "      <td>0.00632</td>\n",
       "      <td>18.0</td>\n",
       "      <td>2.31</td>\n",
       "      <td>0.0</td>\n",
       "      <td>0.538</td>\n",
       "      <td>6.575</td>\n",
       "      <td>65.2</td>\n",
       "      <td>4.0900</td>\n",
       "      <td>1.0</td>\n",
       "      <td>296.0</td>\n",
       "      <td>15.3</td>\n",
       "      <td>396.90</td>\n",
       "      <td>4.98</td>\n",
       "      <td>24.0</td>\n",
       "    </tr>\n",
       "    <tr>\n",
       "      <th>1</th>\n",
       "      <td>0.02731</td>\n",
       "      <td>0.0</td>\n",
       "      <td>7.07</td>\n",
       "      <td>0.0</td>\n",
       "      <td>0.469</td>\n",
       "      <td>6.421</td>\n",
       "      <td>78.9</td>\n",
       "      <td>4.9671</td>\n",
       "      <td>2.0</td>\n",
       "      <td>242.0</td>\n",
       "      <td>17.8</td>\n",
       "      <td>396.90</td>\n",
       "      <td>9.14</td>\n",
       "      <td>21.6</td>\n",
       "    </tr>\n",
       "    <tr>\n",
       "      <th>2</th>\n",
       "      <td>0.02729</td>\n",
       "      <td>0.0</td>\n",
       "      <td>7.07</td>\n",
       "      <td>0.0</td>\n",
       "      <td>0.469</td>\n",
       "      <td>7.185</td>\n",
       "      <td>61.1</td>\n",
       "      <td>4.9671</td>\n",
       "      <td>2.0</td>\n",
       "      <td>242.0</td>\n",
       "      <td>17.8</td>\n",
       "      <td>392.83</td>\n",
       "      <td>4.03</td>\n",
       "      <td>34.7</td>\n",
       "    </tr>\n",
       "    <tr>\n",
       "      <th>3</th>\n",
       "      <td>0.03237</td>\n",
       "      <td>0.0</td>\n",
       "      <td>2.18</td>\n",
       "      <td>0.0</td>\n",
       "      <td>0.458</td>\n",
       "      <td>6.998</td>\n",
       "      <td>45.8</td>\n",
       "      <td>6.0622</td>\n",
       "      <td>3.0</td>\n",
       "      <td>222.0</td>\n",
       "      <td>18.7</td>\n",
       "      <td>394.63</td>\n",
       "      <td>2.94</td>\n",
       "      <td>33.4</td>\n",
       "    </tr>\n",
       "    <tr>\n",
       "      <th>4</th>\n",
       "      <td>0.06905</td>\n",
       "      <td>0.0</td>\n",
       "      <td>2.18</td>\n",
       "      <td>0.0</td>\n",
       "      <td>0.458</td>\n",
       "      <td>7.147</td>\n",
       "      <td>54.2</td>\n",
       "      <td>6.0622</td>\n",
       "      <td>3.0</td>\n",
       "      <td>222.0</td>\n",
       "      <td>18.7</td>\n",
       "      <td>396.90</td>\n",
       "      <td>5.33</td>\n",
       "      <td>36.2</td>\n",
       "    </tr>\n",
       "  </tbody>\n",
       "</table>\n",
       "</div>"
      ],
      "text/plain": [
       "      CRIM    ZN  INDUS  CHAS    NOX     RM   AGE     DIS  RAD    TAX  \\\n",
       "0  0.00632  18.0   2.31   0.0  0.538  6.575  65.2  4.0900  1.0  296.0   \n",
       "1  0.02731   0.0   7.07   0.0  0.469  6.421  78.9  4.9671  2.0  242.0   \n",
       "2  0.02729   0.0   7.07   0.0  0.469  7.185  61.1  4.9671  2.0  242.0   \n",
       "3  0.03237   0.0   2.18   0.0  0.458  6.998  45.8  6.0622  3.0  222.0   \n",
       "4  0.06905   0.0   2.18   0.0  0.458  7.147  54.2  6.0622  3.0  222.0   \n",
       "\n",
       "   PTRATIO       B  LSTAT  target  \n",
       "0     15.3  396.90   4.98    24.0  \n",
       "1     17.8  396.90   9.14    21.6  \n",
       "2     17.8  392.83   4.03    34.7  \n",
       "3     18.7  394.63   2.94    33.4  \n",
       "4     18.7  396.90   5.33    36.2  "
      ]
     },
     "execution_count": 8,
     "metadata": {},
     "output_type": "execute_result"
    }
   ],
   "source": [
    "import pandas as pd\n",
    "import numpy as np\n",
    "\n",
    "from sklearn.datasets import *\n",
    "\n",
    "boston = load_boston()\n",
    "pd_boston = pd.DataFrame(boston.data,columns=boston.feature_names)\n",
    "pd_boston['target'] = pd.Series(boston.target)\n",
    "pd_boston.head()"
   ]
  },
  {
   "cell_type": "markdown",
   "id": "alive-great",
   "metadata": {},
   "source": [
    "Рассмотрим корреляцию признаков в датасете."
   ]
  },
  {
   "cell_type": "code",
   "execution_count": 10,
   "id": "aggressive-distribution",
   "metadata": {},
   "outputs": [
    {
     "data": {
      "text/plain": [
       "<AxesSubplot:>"
      ]
     },
     "execution_count": 10,
     "metadata": {},
     "output_type": "execute_result"
    },
    {
     "data": {
      "image/png": "[encoded data removed]",
      "text/plain": [
       "<Figure size 432x288 with 2 Axes>"
      ]
     },
     "metadata": {
      "needs_background": "light"
     },
     "output_type": "display_data"
    }
   ],
   "source": [
    "import seaborn as sns\n",
    "\n",
    "sns.heatmap(pd_boston.corr())"
   ]
  },
  {
   "cell_type": "markdown",
   "id": "focused-andrews",
   "metadata": {},
   "source": [
    "Целевой признак сильно коррелирует с LSTAT, поэтому рассмотрим эту пару."
   ]
  },
  {
   "cell_type": "markdown",
   "id": "comprehensive-february",
   "metadata": {},
   "source": [
    "Разделим выборку на обучающую и тестовую части:"
   ]
  },
  {
   "cell_type": "code",
   "execution_count": 24,
   "id": "entertaining-original",
   "metadata": {},
   "outputs": [],
   "source": [
    "from sklearn.model_selection import train_test_split\n",
    "boston_X_train, boston_X_test, boston_Y_train, boston_Y_test = train_test_split(\n",
    "    pd_boston['LSTAT'].values, boston.target, test_size=0.3, random_state=1)"
   ]
  },
  {
   "cell_type": "markdown",
   "id": "aggressive-drunk",
   "metadata": {},
   "source": [
    "##### 1) Построим модель методом Линейной регрессии:"
   ]
  },
  {
   "cell_type": "code",
   "execution_count": 25,
   "id": "intimate-assessment",
   "metadata": {},
   "outputs": [],
   "source": [
    "from sklearn.linear_model import LinearRegression\n",
    "\n",
    "# Обучим модель линейной регрессии\n",
    "reg1 = LinearRegression().fit(boston_X_train.reshape(-1, 1), boston_Y_train.reshape(-1, 1))"
   ]
  },
  {
   "cell_type": "markdown",
   "id": "practical-destination",
   "metadata": {},
   "source": [
    "Построим график функции с полученными коэффициентами "
   ]
  },
  {
   "cell_type": "code",
   "execution_count": 28,
   "id": "informative-habitat",
   "metadata": {},
   "outputs": [
    {
     "data": {
      "image/png": "[encoded data removed]",
      "text/plain": [
       "<Figure size 432x288 with 1 Axes>"
      ]
     },
     "metadata": {
      "needs_background": "light"
     },
     "output_type": "display_data"
    }
   ],
   "source": [
    "import matplotlib.pyplot as plt\n",
    "\n",
    "y_array_regr = [reg1.coef_[0]*x+reg1.intercept_[0] for x in boston_X_train]\n",
    "\n",
    "plt.plot(boston_X_train, boston_Y_train, 'g.')\n",
    "plt.plot(boston_X_train, y_array_regr, 'b', linewidth=2.0)\n",
    "plt.show()"
   ]
  },
  {
   "cell_type": "markdown",
   "id": "standard-rainbow",
   "metadata": {},
   "source": [
    "Видно, что график примерно проходит через облако точек, но при этом находится в отдалении от больших скоплений. "
   ]
  },
  {
   "cell_type": "markdown",
   "id": "flexible-medication",
   "metadata": {},
   "source": [
    "Определим значения целевого признака для тестовой выборки и оценим качеcтво полученной модели."
   ]
  },
  {
   "cell_type": "code",
   "execution_count": 38,
   "id": "focused-advice",
   "metadata": {},
   "outputs": [],
   "source": [
    "target1 = reg1.predict(boston_X_test.reshape(-1, 1))"
   ]
  },
  {
   "cell_type": "markdown",
   "id": "supreme-entity",
   "metadata": {},
   "source": [
    "Обе метрики используются для решаемой нами задачи регрессии."
   ]
  },
  {
   "cell_type": "markdown",
   "id": "powerful-scanning",
   "metadata": {},
   "source": [
    "Используем метрику Root mean squared error. Данная метрика позволяет не учитывать знак, то есть направление отлонения и при этом не оставлять квадрат этого отклонения."
   ]
  },
  {
   "cell_type": "code",
   "execution_count": 34,
   "id": "dressed-participation",
   "metadata": {},
   "outputs": [
    {
     "data": {
      "text/plain": [
       "6.528418144661057"
      ]
     },
     "execution_count": 34,
     "metadata": {},
     "output_type": "execute_result"
    }
   ],
   "source": [
    "from sklearn.metrics import mean_squared_error\n",
    "\n",
    "mean_squared_error(boston_Y_test, target1, squared=False)"
   ]
  },
  {
   "cell_type": "markdown",
   "id": "functioning-swing",
   "metadata": {},
   "source": [
    "Так же используем метрику R^2, потому как это единственная нормированная метрика, что позволяет более корректно оценить степень отклонения. Кроме того, так как мы будем оценивать одинаковые выборки с одинаковым количеством параметров, коэффициент будет высчитываться одинакого корректно."
   ]
  },
  {
   "cell_type": "code",
   "execution_count": 36,
   "id": "modular-navigator",
   "metadata": {},
   "outputs": [
    {
     "data": {
      "text/plain": [
       "0.5349901044757204"
      ]
     },
     "execution_count": 36,
     "metadata": {},
     "output_type": "execute_result"
    }
   ],
   "source": [
    "from sklearn.metrics import r2_score\n",
    "\n",
    "r2_score(boston_Y_test, target1)"
   ]
  },
  {
   "cell_type": "markdown",
   "id": "angry-script",
   "metadata": {},
   "source": [
    "##### 2) Построим модель методом Градиентного бустинга:"
   ]
  },
  {
   "cell_type": "code",
   "execution_count": 43,
   "id": "alleged-franchise",
   "metadata": {},
   "outputs": [
    {
     "data": {
      "text/plain": [
       "GradientBoostingRegressor(random_state=1)"
      ]
     },
     "execution_count": 43,
     "metadata": {},
     "output_type": "execute_result"
    }
   ],
   "source": [
    "from sklearn.ensemble import GradientBoostingRegressor\n",
    "\n",
    "reg2 = GradientBoostingRegressor(random_state=1)\n",
    "reg2.fit(boston_X_train.reshape(-1, 1), boston_Y_train)"
   ]
  },
  {
   "cell_type": "code",
   "execution_count": 44,
   "id": "alert-contamination",
   "metadata": {},
   "outputs": [],
   "source": [
    "target2 = reg2.predict(boston_X_test.reshape(-1, 1))"
   ]
  },
  {
   "cell_type": "code",
   "execution_count": 47,
   "id": "worth-yield",
   "metadata": {},
   "outputs": [
    {
     "data": {
      "text/plain": [
       "6.081217778307466"
      ]
     },
     "execution_count": 47,
     "metadata": {},
     "output_type": "execute_result"
    }
   ],
   "source": [
    "mean_squared_error(boston_Y_test, target2, squared=False)\n"
   ]
  },
  {
   "cell_type": "code",
   "execution_count": 48,
   "id": "painted-drunk",
   "metadata": {},
   "outputs": [
    {
     "data": {
      "text/plain": [
       "0.5965150115768167"
      ]
     },
     "execution_count": 48,
     "metadata": {},
     "output_type": "execute_result"
    }
   ],
   "source": [
    "r2_score(boston_Y_test, target2)"
   ]
  },
  {
   "cell_type": "markdown",
   "id": "animal-activity",
   "metadata": {},
   "source": [
    "##### Вывод"
   ]
  },
  {
   "cell_type": "markdown",
   "id": "meaningful-sperm",
   "metadata": {},
   "source": [
    "В результате проведения исследования видим, что медиана ошибок уменьшается, а оценка R^2 так же показывает улучшение модели. Следовательно можем сделать вывод, что градиентный бустинг показывает себя лучше."
   ]
  }
 ],
 "metadata": {
  "kernelspec": {
   "display_name": "Python 3",
   "language": "python",
   "name": "python3"
  },
  "language_info": {
   "codemirror_mode": {
    "name": "ipython",
    "version": 3
   },
   "file_extension": ".py",
   "mimetype": "text/x-python",
   "name": "python",
   "nbconvert_exporter": "python",
   "pygments_lexer": "ipython3",
   "version": "3.8.6"
  }
 },
 "nbformat": 4,
 "nbformat_minor": 5
}
